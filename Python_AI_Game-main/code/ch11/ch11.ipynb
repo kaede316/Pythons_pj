{
 "cells": [
  {
   "cell_type": "code",
   "execution_count": 1,
   "metadata": {},
   "outputs": [],
   "source": [
    "import torch\n",
    "from torch.nn import Linear\n",
    "import numpy as np\n",
    "import random\n",
    "import gym"
   ]
  },
  {
   "cell_type": "code",
   "execution_count": 2,
   "metadata": {},
   "outputs": [],
   "source": [
    "def one_hot(x,size):\n",
    "    result = np.zeros(size)\n",
    "    result[x] = 1\n",
    "    return result "
   ]
  },
  {
   "cell_type": "code",
   "execution_count": 3,
   "metadata": {},
   "outputs": [],
   "source": [
    "def conv2tensor(x,size):\n",
    "    x = one_hot(x,size)\n",
    "    x = torch.from_numpy(x).float()\n",
    "    return x"
   ]
  },
  {
   "cell_type": "code",
   "execution_count": 5,
   "metadata": {},
   "outputs": [],
   "source": [
    "def get_action(q_value, n_game):\n",
    "    q_value_np = q_value.clone().detach().numpy().squeeze()\n",
    "    epsilon = 2000 - n_game\n",
    "    if random.randint(0, 2000) < epsilon:\n",
    "        prob = np.exp(q_value_np)/np.exp(q_value_np).sum()\n",
    "        final_move = np.random.choice(len(prob), p=prob)\n",
    "    else:\n",
    "        final_move = q_value_np.argmax()\n",
    "    return final_move"
   ]
  },
  {
   "cell_type": "code",
   "execution_count": 6,
   "metadata": {},
   "outputs": [],
   "source": [
    "def Simple_DQN(env,lr = 0.001,episodes=100, max_step = 100,gamma=0.9,test_policy_freq=100):\n",
    "    nS, nA = env.observation_space.n, env.action_space.n\n",
    "    model = Linear(nS, nA)\n",
    "    loss_fn = torch.nn.MSELoss()\n",
    "    optimizer = torch.optim.Adam(model.parameters(), lr=lr)\n",
    "    results = []\n",
    "    for i in range(episodes): \n",
    "        state, _ = env.reset()\n",
    "        state = conv2tensor(state,nS)\n",
    "        finished = False\n",
    "        step = 0\n",
    "        while not finished :\n",
    "            q_value = model(state)\n",
    "\n",
    "            # 选择动作并与环境交互\n",
    "            action = get_action(q_value,n_game=i)\n",
    "            next_state, reward, finished, _, _ = env.step(action)\n",
    "            next_state = conv2tensor(next_state,nS)\n",
    "\n",
    "            # 计算目标值 \n",
    "            target = q_value.clone().detach()\n",
    "            q_value_next = model(next_state).detach().numpy().squeeze()\n",
    "            td_target = reward + gamma * q_value_next.max() * (not finished)\n",
    "            target[action] = td_target\n",
    "            \n",
    "            optimizer.zero_grad()\n",
    "            td_error = loss_fn(q_value,target)\n",
    "            td_error.backward()\n",
    "            optimizer.step()\n",
    "            state = next_state\n",
    "            step += 1\n",
    "            if step >= max_step:\n",
    "                break\n",
    "\n",
    "        if finished:\n",
    "            results.append(reward)\n",
    "\n",
    "        \n",
    "        if (i>0) and (i % test_policy_freq == 0):\n",
    "            results_array = np.array(results)\n",
    "            print(\"Running episode  {} Reaches goal {:.2f}%. \".format(\n",
    "                i, \n",
    "                results_array[-100:].mean()*100))\n",
    "\n",
    "    return "
   ]
  },
  {
   "cell_type": "code",
   "execution_count": 8,
   "metadata": {},
   "outputs": [
    {
     "name": "stdout",
     "output_type": "stream",
     "text": [
      "Running episode  200 Reaches goal 0.00%. \n",
      "Running episode  400 Reaches goal 2.00%. \n",
      "Running episode  600 Reaches goal 2.00%. \n",
      "Running episode  800 Reaches goal 4.00%. \n",
      "Running episode  1000 Reaches goal 1.00%. \n",
      "Running episode  1200 Reaches goal 5.00%. \n",
      "Running episode  1400 Reaches goal 5.00%. \n",
      "Running episode  1600 Reaches goal 7.00%. \n",
      "Running episode  1800 Reaches goal 8.00%. \n",
      "Running episode  2000 Reaches goal 34.00%. \n",
      "Running episode  2200 Reaches goal 54.00%. \n",
      "Running episode  2400 Reaches goal 55.00%. \n",
      "Running episode  2600 Reaches goal 47.00%. \n",
      "Running episode  2800 Reaches goal 49.00%. \n",
      "Running episode  3000 Reaches goal 47.00%. \n",
      "Running episode  3200 Reaches goal 66.00%. \n",
      "Running episode  3400 Reaches goal 46.00%. \n",
      "Running episode  3600 Reaches goal 38.00%. \n",
      "Running episode  3800 Reaches goal 37.00%. \n",
      "Running episode  4000 Reaches goal 40.00%. \n",
      "Running episode  4200 Reaches goal 41.00%. \n",
      "Running episode  4400 Reaches goal 44.00%. \n",
      "Running episode  4600 Reaches goal 39.00%. \n",
      "Running episode  4800 Reaches goal 50.00%. \n"
     ]
    }
   ],
   "source": [
    "env = gym.make('FrozenLake-v1')\n",
    "Simple_DQN(env,lr = 0.001,episodes=5000, max_step = 100,gamma=0.9,test_policy_freq=200)"
   ]
  },
  {
   "cell_type": "code",
   "execution_count": 10,
   "metadata": {},
   "outputs": [
    {
     "name": "stdout",
     "output_type": "stream",
     "text": [
      "Running episode  200 Reaches goal 0.00%. \n",
      "Running episode  400 Reaches goal 0.00%. \n",
      "Running episode  600 Reaches goal 0.00%. \n",
      "Running episode  800 Reaches goal 0.00%. \n",
      "Running episode  1000 Reaches goal 0.00%. \n",
      "Running episode  1200 Reaches goal 1.00%. \n",
      "Running episode  1400 Reaches goal 0.00%. \n",
      "Running episode  1600 Reaches goal 2.00%. \n",
      "Running episode  1800 Reaches goal 0.00%. \n",
      "Running episode  2000 Reaches goal 1.00%. \n",
      "Running episode  2200 Reaches goal 2.00%. \n",
      "Running episode  2400 Reaches goal 0.00%. \n",
      "Running episode  2600 Reaches goal 0.00%. \n",
      "Running episode  2800 Reaches goal 0.00%. \n",
      "Running episode  3000 Reaches goal 0.00%. \n",
      "Running episode  3200 Reaches goal 0.00%. \n",
      "Running episode  3400 Reaches goal 0.00%. \n",
      "Running episode  3600 Reaches goal 0.00%. \n",
      "Running episode  3800 Reaches goal 0.00%. \n",
      "Running episode  4000 Reaches goal 0.00%. \n",
      "Running episode  4200 Reaches goal 0.00%. \n",
      "Running episode  4400 Reaches goal 0.00%. \n",
      "Running episode  4600 Reaches goal 0.00%. \n",
      "Running episode  4800 Reaches goal 0.00%. \n"
     ]
    }
   ],
   "source": [
    "env = gym.make('FrozenLake-v1',map_name=\"8x8\")\n",
    "Simple_DQN(env,lr = 0.001,episodes=5000, max_step = 100,gamma=0.9,test_policy_freq=200)"
   ]
  },
  {
   "cell_type": "code",
   "execution_count": 1,
   "metadata": {},
   "outputs": [],
   "source": [
    "import torch\n",
    "import torch.nn as nn\n",
    "import torch.optim as optim\n",
    "import torch.nn.functional as F\n",
    "import gym\n",
    "import numpy as np\n",
    "import random\n",
    "from collections import deque"
   ]
  },
  {
   "cell_type": "code",
   "execution_count": 97,
   "metadata": {},
   "outputs": [],
   "source": [
    "class Linear_QNet(nn.Module):\n",
    "    def __init__(self, input_size, hidden_size, output_size):\n",
    "        super().__init__()\n",
    "        self.linear = nn.Linear(input_size, output_size)\n",
    "        self.linear2 = nn.Linear(hidden_size, output_size)\n",
    "\n",
    "    def forward(self, x):\n",
    "        x = F.relu(self.linear1(x))\n",
    "        x = self.linear2(x)\n",
    "        return x"
   ]
  },
  {
   "cell_type": "code",
   "execution_count": 98,
   "metadata": {},
   "outputs": [],
   "source": [
    "class QTrainer:\n",
    "    def __init__(self, lr, gamma,input_dim, hidden_dim, output_dim):\n",
    "        self.gamma = gamma\n",
    "        self.model = Linear_QNet(input_dim,hidden_dim,output_dim)\n",
    "        self.target_model = Linear_QNet(input_dim,hidden_dim,output_dim)\n",
    "        self.optimizer = optim.Adam(self.model.parameters(), lr=lr)\n",
    "        self.criterion = nn.SmoothL1Loss()\n",
    "        self.copy_model()\n",
    "\n",
    "    def copy_model(self):\n",
    "        self.target_model.load_state_dict(self.model.state_dict())\n",
    "\n",
    "    def train_step(self, state, action, reward, next_state, done):\n",
    "        state = torch.tensor(state, dtype=torch.float)\n",
    "        next_state = torch.tensor(next_state, dtype=torch.float)\n",
    "        action = torch.tensor(action, dtype=torch.long)\n",
    "        action = torch.unsqueeze(action, -1)\n",
    "        reward = torch.tensor(reward, dtype=torch.float)\n",
    "        done = torch.tensor(done, dtype=torch.long)\n",
    "\n",
    "        Q_value = self.model(state).gather(-1, action).squeeze()\n",
    "        Q_value_next = self.target_model(next_state).detach().max(-1)[0]\n",
    "        target =  (reward + self.gamma * Q_value_next * (1 - done)).squeeze()\n",
    "\n",
    "        self.optimizer.zero_grad()\n",
    "        loss = self.criterion(Q_value,target)\n",
    "        loss.backward()\n",
    "        self.optimizer.step()"
   ]
  },
  {
   "cell_type": "code",
   "execution_count": 99,
   "metadata": {},
   "outputs": [],
   "source": [
    "class Agent:\n",
    "    def __init__(self,env,state_space, action_space, hidden_dim = 16,max_explore=1000, gamma = 0.9,\n",
    "                max_memory=5000, lr=0.001):\n",
    "        self.max_explore = max_explore \n",
    "        self.memory = deque(maxlen=max_memory) \n",
    "        self.nS = state_space  \n",
    "        self.nA = action_space  \n",
    "        self.step = 0\n",
    "        self.n_game=0\n",
    "        self.trainer = QTrainer(lr, gamma, self.nS, hidden_dim,self.nA)\n",
    "\n",
    "    def remember(self, state, action, reward, next_state, done):\n",
    "        self.memory.append((state, action, reward, next_state, done)) \n",
    "\n",
    "    def train_long_memory(self,batch_size):\n",
    "        if len(self.memory) > batch_size:\n",
    "            mini_sample = random.sample(self.memory, batch_size) # list of tuples\n",
    "        else:\n",
    "            mini_sample = self.memory\n",
    "        states, actions, rewards, next_states, dones = zip(*mini_sample)\n",
    "        states = np.array(states)\n",
    "        next_states = np.array(next_states)\n",
    "        self.trainer.train_step(states, actions, rewards, next_states, dones)\n",
    "\n",
    "    # def train_short_memory(self, state, action, reward, next_state, done):\n",
    "    #     self.trainer.train_step(state, action, reward, next_state, done)\n",
    "\n",
    "\n",
    "    def get_action(self, state, n_game, explore=True):\n",
    "        state = torch.tensor(state, dtype=torch.float)\n",
    "        prediction = self.trainer.model(state).detach().numpy().squeeze()\n",
    "        epsilon = self.max_explore - n_game\n",
    "        if explore and random.randint(0, self.max_explore) < epsilon:\n",
    "            prob = np.exp(prediction)/np.exp(prediction).sum()\n",
    "            final_move = np.random.choice(len(prob), p=prob)\n",
    "        else:\n",
    "            final_move = prediction.argmax()\n",
    "        return final_move\n",
    "\n",
    "\n",
    "    @staticmethod\n",
    "    def one_hot(x,size):\n",
    "        result = np.zeros(size)\n",
    "        result[x] = 1\n",
    "        return result "
   ]
  },
  {
   "cell_type": "code",
   "execution_count": 88,
   "metadata": {},
   "outputs": [],
   "source": [
    "def train(env, max_game=5000, max_step=100):\n",
    "    nS = env.observation_space.n\n",
    "    agent = Agent(env, \n",
    "                    state_space = env.observation_space.n, \n",
    "                    action_space = env.action_space.n,\n",
    "                    hidden_dim=16,\n",
    "                    max_explore=2000, gamma = 0.9,\n",
    "                    max_memory=50000, lr=0.001)\n",
    "    results = []\n",
    "    state_new, _ = env.reset()\n",
    "    state_new = Agent.one_hot(state_new,nS)\n",
    "    done = False\n",
    "    total_step = 0\n",
    "    while agent.n_game <= max_game:\n",
    "        state_old = state_new\n",
    "        action = agent.get_action(state_old,agent.n_game,explore=True)\n",
    "        state_new, reward, done, _, _ = env.step(action)\n",
    "        state_new = Agent.one_hot(state_new,nS)\n",
    "        agent.remember(state_old, action, reward, state_new, done)\n",
    "        agent.train_long_memory(batch_size=256)\n",
    "        agent.step += 1\n",
    "        total_step += 1\n",
    "\n",
    "        if total_step % 10 == 0:\n",
    "            agent.trainer.copy_model()\n",
    "\n",
    "        if done or agent.step>max_step:\n",
    "            results.append(reward>0)\n",
    "            state_new, _ = env.reset()\n",
    "            state_new = Agent.one_hot(state_new,nS)\n",
    "            agent.step = 0\n",
    "            agent.n_game += 1\n",
    "\n",
    "            if (agent.n_game>0) and (agent.n_game % 200 ==0):         \n",
    "                print(\"Running episode  {}, step {} Reaches goal {:.2f}%. \".format(\n",
    "                    agent.n_game, total_step,np.sum(results[-100:])))\n",
    "\n"
   ]
  },
  {
   "cell_type": "code",
   "execution_count": 89,
   "metadata": {},
   "outputs": [
    {
     "name": "stdout",
     "output_type": "stream",
     "text": [
      "Running episode  200, step 6256 Reaches goal 0.00%. \n",
      "Running episode  400, step 12852 Reaches goal 0.00%. \n",
      "Running episode  600, step 19180 Reaches goal 0.00%. \n",
      "Running episode  800, step 26462 Reaches goal 3.00%. \n",
      "Running episode  1000, step 33680 Reaches goal 0.00%. \n",
      "Running episode  1200, step 41236 Reaches goal 5.00%. \n",
      "Running episode  1400, step 49514 Reaches goal 4.00%. \n",
      "Running episode  1600, step 57593 Reaches goal 12.00%. \n",
      "Running episode  1800, step 66808 Reaches goal 22.00%. \n",
      "Running episode  2000, step 76686 Reaches goal 30.00%. \n",
      "Running episode  2200, step 88129 Reaches goal 32.00%. \n",
      "Running episode  2400, step 99131 Reaches goal 32.00%. \n",
      "Running episode  2600, step 109721 Reaches goal 25.00%. \n",
      "Running episode  2800, step 118519 Reaches goal 20.00%. \n",
      "Running episode  3000, step 129145 Reaches goal 32.00%. \n",
      "Running episode  3200, step 138852 Reaches goal 29.00%. \n",
      "Running episode  3400, step 149629 Reaches goal 34.00%. \n",
      "Running episode  3600, step 160265 Reaches goal 33.00%. \n",
      "Running episode  3800, step 169896 Reaches goal 30.00%. \n",
      "Running episode  4000, step 180914 Reaches goal 20.00%. \n",
      "Running episode  4200, step 191330 Reaches goal 33.00%. \n",
      "Running episode  4400, step 201355 Reaches goal 34.00%. \n",
      "Running episode  4600, step 211469 Reaches goal 26.00%. \n",
      "Running episode  4800, step 222753 Reaches goal 30.00%. \n",
      "Running episode  5000, step 233123 Reaches goal 23.00%. \n"
     ]
    }
   ],
   "source": [
    "env = gym.make('FrozenLake-v1',map_name=\"8x8\")\n",
    "train(env, 5000)"
   ]
  }
 ],
 "metadata": {
  "kernelspec": {
   "display_name": "game",
   "language": "python",
   "name": "python3"
  },
  "language_info": {
   "codemirror_mode": {
    "name": "ipython",
    "version": 3
   },
   "file_extension": ".py",
   "mimetype": "text/x-python",
   "name": "python",
   "nbconvert_exporter": "python",
   "pygments_lexer": "ipython3",
   "version": "3.9.12"
  },
  "orig_nbformat": 4,
  "vscode": {
   "interpreter": {
    "hash": "582c0b5fdb7e7ad1f1050fd1e5a23890c962b6c6199ffd519a966d6976476f17"
   }
  }
 },
 "nbformat": 4,
 "nbformat_minor": 2
}
