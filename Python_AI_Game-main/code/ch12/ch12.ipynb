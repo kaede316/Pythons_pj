{
 "cells": [
  {
   "cell_type": "markdown",
   "metadata": {},
   "source": [
    "遗传算法解决最优化问题"
   ]
  },
  {
   "cell_type": "code",
   "execution_count": 50,
   "metadata": {},
   "outputs": [],
   "source": [
    "import numpy as np\n",
    "import random\n",
    "import matplotlib.pyplot as plt"
   ]
  },
  {
   "cell_type": "code",
   "execution_count": 149,
   "metadata": {},
   "outputs": [],
   "source": [
    "x = np.linspace(-2,2,100)\n",
    "\n",
    "def func(x):\n",
    "    return x**2\n",
    "y = func(x)\n"
   ]
  },
  {
   "cell_type": "code",
   "execution_count": 164,
   "metadata": {},
   "outputs": [],
   "source": [
    "\n",
    "def init_pop(size):\n",
    "    pop = np.random.uniform(low=-2,high=2,size=size)\n",
    "    return pop\n",
    "\n",
    "pop = init_pop(10)"
   ]
  },
  {
   "cell_type": "code",
   "execution_count": 151,
   "metadata": {},
   "outputs": [
    {
     "data": {
      "text/plain": [
       "<matplotlib.collections.PathCollection at 0x1ad8ae41fa0>"
      ]
     },
     "execution_count": 151,
     "metadata": {},
     "output_type": "execute_result"
    },
    {
     "data": {
      "image/png": "[encoded data removed]",
      "text/plain": [
       "<Figure size 432x288 with 1 Axes>"
      ]
     },
     "metadata": {
      "needs_background": "light"
     },
     "output_type": "display_data"
    }
   ],
   "source": [
    "plt.plot(x,y)\n",
    "y_fit = [func(i) for i in pop]\n",
    "plt.scatter(pop, y_fit,c='r')\n"
   ]
  },
  {
   "cell_type": "code",
   "execution_count": 152,
   "metadata": {},
   "outputs": [],
   "source": [
    "def fitness(x):\n",
    "    if (x>2 or x<-2):  \n",
    "        return -100\n",
    "    else: \n",
    "        return -x**2\n"
   ]
  },
  {
   "cell_type": "code",
   "execution_count": 153,
   "metadata": {},
   "outputs": [
    {
     "data": {
      "text/plain": [
       "(-1.2420732931708498, -0.003391389359281686)"
      ]
     },
     "execution_count": 153,
     "metadata": {},
     "output_type": "execute_result"
    }
   ],
   "source": [
    "\n",
    "def fitness_pop(pop):\n",
    "    pop_fit = np.array([fitness(x) for x in pop])\n",
    "    avg_fit = pop_fit.mean()\n",
    "    max_fit = pop_fit.max()\n",
    "    return avg_fit,max_fit\n",
    "\n",
    "fitness_pop(pop)"
   ]
  },
  {
   "cell_type": "code",
   "execution_count": 154,
   "metadata": {},
   "outputs": [
    {
     "data": {
      "text/plain": [
       "array([0.00921557, 0.15101517, 0.00745463, 0.1602252 , 0.09779016,\n",
       "       0.14360612, 0.22202591, 0.1063034 , 0.03081827, 0.07154556])"
      ]
     },
     "execution_count": 154,
     "metadata": {},
     "output_type": "execute_result"
    }
   ],
   "source": [
    "def fitness_prob(pop):\n",
    "    return np.exp([fitness(x) for x in pop])/np.sum(np.exp([fitness(x) for x in pop]))\n",
    "\n",
    "fitness_prob(pop)\n"
   ]
  },
  {
   "cell_type": "code",
   "execution_count": 155,
   "metadata": {},
   "outputs": [],
   "source": [
    "def crossover(p1,p2):\n",
    "    weight = np.random.rand()\n",
    "    p1_sub = p1*weight\n",
    "    p2_sub = p2*(1-weight)\n",
    "    children = p1_sub+p2_sub\n",
    "    return children"
   ]
  },
  {
   "cell_type": "code",
   "execution_count": 156,
   "metadata": {},
   "outputs": [],
   "source": [
    "\n",
    "def mutate(p):\n",
    "    step = np.random.randn()*0.1\n",
    "    children = p+step\n",
    "    return children\n"
   ]
  },
  {
   "cell_type": "code",
   "execution_count": 157,
   "metadata": {},
   "outputs": [],
   "source": [
    "# 进化参数\n",
    "mut_rate = 0.1 # 变异率\n",
    "children_size = len(pop)"
   ]
  },
  {
   "cell_type": "code",
   "execution_count": 158,
   "metadata": {},
   "outputs": [],
   "source": [
    "def reproduce(pop_parent,children_size):\n",
    "    next_generation = []\n",
    "    prob = fitness_prob(pop_parent) \n",
    "    for _ in range(children_size):\n",
    "        p1, p2 = np.random.choice(len(pop),size=2, replace=False,p=prob) \n",
    "        next_generation.append(crossover(pop_parent[p1], pop_parent[p2]))\n",
    "    return np.array(next_generation)"
   ]
  },
  {
   "cell_type": "code",
   "execution_count": 159,
   "metadata": {},
   "outputs": [],
   "source": [
    "def pop_mutate(pop,mut_rate):    \n",
    "    mut_num = int(mut_rate*len(pop)) # 计算待变异基因数量\n",
    "    mut_index = np.random.choice(len(pop), mut_num,replace=False)  # 抽取待变异基因编号\n",
    "    for i in mut_index:\n",
    "        pop[i] = mutate(pop[i]) \n",
    "    return pop"
   ]
  },
  {
   "cell_type": "code",
   "execution_count": 160,
   "metadata": {},
   "outputs": [],
   "source": [
    "def selector(pop_parent,pop_children):    \n",
    "    pop_group = np.concatenate([pop_children,pop_parent])\n",
    "    prob = fitness_prob(pop_group)\n",
    "    index = np.random.choice(len(pop_group),size = len(pop_parent),replace=False,p=prob) \n",
    "    return pop_group[index]\n"
   ]
  },
  {
   "cell_type": "code",
   "execution_count": 161,
   "metadata": {},
   "outputs": [
    {
     "name": "stdout",
     "output_type": "stream",
     "text": [
      "第0代种群的适应度：-0.402,最优秀的适应度：-0.000\n",
      "第1代种群的适应度：-0.193,最优秀的适应度：-0.000\n",
      "第2代种群的适应度：-0.063,最优秀的适应度：-0.006\n",
      "第3代种群的适应度：-0.026,最优秀的适应度：-0.001\n",
      "第4代种群的适应度：-0.019,最优秀的适应度：-0.001\n",
      "第5代种群的适应度：-0.010,最优秀的适应度：-0.000\n",
      "第6代种群的适应度：-0.023,最优秀的适应度：-0.000\n",
      "第7代种群的适应度：-0.023,最优秀的适应度：-0.001\n",
      "第8代种群的适应度：-0.009,最优秀的适应度：-0.000\n",
      "第9代种群的适应度：-0.009,最优秀的适应度：-0.000\n"
     ]
    }
   ],
   "source": [
    "# begin\n",
    "pop_parent = init_pop(10)\n",
    "avg_fit, max_fit = fitness_pop(pop_parent)\n",
    "\n",
    "iter_num = 0\n",
    "while iter_num < 10:\n",
    "\n",
    "    next_generation = reproduce(pop_parent,children_size)\n",
    "    next_generation = pop_mutate(next_generation,mut_rate)\n",
    "    next_generation= selector(pop_parent,next_generation)\n",
    "    avg_fit, max_fit = fitness_pop(next_generation)\n",
    "    print(\"第{n}代种群的适应度：{x:.3f},最优秀的适应度：{y:.3f}\".format(n=iter_num, x=avg_fit,y=max_fit))\n",
    "    iter_num = iter_num + 1   # 进入下一轮\n",
    "    pop_parent = next_generation"
   ]
  },
  {
   "cell_type": "code",
   "execution_count": 162,
   "metadata": {},
   "outputs": [
    {
     "data": {
      "text/plain": [
       "<matplotlib.collections.PathCollection at 0x1ad8a50bbb0>"
      ]
     },
     "execution_count": 162,
     "metadata": {},
     "output_type": "execute_result"
    },
    {
     "data": {
      "image/png": "[encoded data removed]",
      "text/plain": [
       "<Figure size 432x288 with 1 Axes>"
      ]
     },
     "metadata": {
      "needs_background": "light"
     },
     "output_type": "display_data"
    }
   ],
   "source": [
    "plt.plot(x,y)\n",
    "pop_fit = [func(i) for i in pop_parent]\n",
    "plt.scatter(pop_parent, pop_fit,c='r')\n"
   ]
  },
  {
   "cell_type": "markdown",
   "metadata": {},
   "source": [
    "遗传算法解决背包问题"
   ]
  },
  {
   "cell_type": "code",
   "execution_count": 64,
   "metadata": {},
   "outputs": [],
   "source": [
    "weight = np.array([35, 30, 60, 50, 40, 10, 25])\n",
    "value = np.array([10, 40, 30, 50, 35, 40, 30])"
   ]
  },
  {
   "cell_type": "code",
   "execution_count": 65,
   "metadata": {},
   "outputs": [
    {
     "data": {
      "text/plain": [
       "array([[1, 0, 0, 0, 0, 0, 0],\n",
       "       [1, 0, 0, 0, 1, 1, 0],\n",
       "       [1, 0, 0, 0, 0, 0, 0],\n",
       "       [0, 1, 1, 0, 0, 1, 1],\n",
       "       [0, 1, 0, 0, 1, 0, 1],\n",
       "       [0, 0, 0, 0, 0, 0, 1],\n",
       "       [0, 0, 1, 0, 1, 0, 0],\n",
       "       [0, 0, 1, 1, 0, 0, 1],\n",
       "       [0, 0, 1, 1, 0, 1, 0],\n",
       "       [1, 1, 0, 1, 0, 1, 1],\n",
       "       [0, 1, 0, 1, 0, 0, 1],\n",
       "       [1, 0, 1, 0, 1, 1, 0],\n",
       "       [1, 1, 1, 0, 1, 1, 0],\n",
       "       [0, 1, 1, 1, 1, 0, 1],\n",
       "       [0, 0, 1, 0, 1, 0, 0],\n",
       "       [0, 0, 0, 0, 0, 1, 1],\n",
       "       [0, 0, 1, 1, 0, 1, 0],\n",
       "       [0, 0, 1, 1, 0, 0, 1],\n",
       "       [0, 0, 1, 1, 0, 1, 1],\n",
       "       [1, 0, 1, 0, 0, 0, 0]])"
      ]
     },
     "execution_count": 65,
     "metadata": {},
     "output_type": "execute_result"
    }
   ],
   "source": [
    "def init_pop(pop_num,pop_size):\n",
    "    pop = []\n",
    "    for _ in range(pop_num):\n",
    "        pop.append(np.random.randint(0,2,pop_size))\n",
    "    return np.array(pop)\n",
    "pop = init_pop(20,7)\n",
    "pop"
   ]
  },
  {
   "cell_type": "code",
   "execution_count": 68,
   "metadata": {},
   "outputs": [],
   "source": [
    "def fitness(select):\n",
    "    result = np.sum(select*value/weight)\n",
    "    sum_weight = np.sum(select*weight)\n",
    "    if sum_weight > 150:\n",
    "        result = -100\n",
    "    return result\n",
    "\n",
    "def fitness_pop(pop):\n",
    "    pop_fit = np.array([fitness(x) for x in pop])\n",
    "    avg_fit = pop_fit.mean()\n",
    "    max_fit = pop_fit.max()\n",
    "    return avg_fit,max_fit"
   ]
  },
  {
   "cell_type": "code",
   "execution_count": 69,
   "metadata": {},
   "outputs": [
    {
     "data": {
      "text/plain": [
       "(-6.688869047619048, 7.819047619047619)"
      ]
     },
     "execution_count": 69,
     "metadata": {},
     "output_type": "execute_result"
    }
   ],
   "source": [
    "fitness_pop(pop)"
   ]
  },
  {
   "cell_type": "code",
   "execution_count": 70,
   "metadata": {},
   "outputs": [
    {
     "data": {
      "text/plain": [
       "array([2.34431318e-04, 3.07044434e-02, 2.34431318e-04, 1.99741979e-01,\n",
       "       5.32294344e-03, 5.84904376e-04, 6.96765125e-04, 2.62135955e-03,\n",
       "       4.31073318e-02, 4.38228610e-01, 6.03168512e-03, 5.06230689e-02,\n",
       "       6.55365087e-48, 6.55365087e-48, 6.96765125e-04, 3.19346969e-02,\n",
       "       4.31073318e-02, 2.62135955e-03, 1.43121382e-01, 3.86511901e-04])"
      ]
     },
     "execution_count": 70,
     "metadata": {},
     "output_type": "execute_result"
    }
   ],
   "source": [
    "def fitness_prob(pop):\n",
    "    return np.exp([fitness(x) for x in pop])/np.sum(np.exp([fitness(x) for x in pop]))\n",
    "\n",
    "fitness_prob(pop)"
   ]
  },
  {
   "cell_type": "code",
   "execution_count": 71,
   "metadata": {},
   "outputs": [
    {
     "name": "stdout",
     "output_type": "stream",
     "text": [
      "[1 0 0 0 0 0 0]\n",
      "[1 0 0 1 0 0 0]\n"
     ]
    }
   ],
   "source": [
    "def mutate(select):\n",
    "    index = np.random.choice(len(select), 1)\n",
    "    if select[index] ==0:\n",
    "        select[index]=1\n",
    "    else:\n",
    "        select[index]=0\n",
    "    return select\n",
    "\n",
    "print(pop[0])\n",
    "print(mutate(pop[0]))"
   ]
  },
  {
   "cell_type": "code",
   "execution_count": 118,
   "metadata": {},
   "outputs": [],
   "source": [
    "def crossover(p1,p2):\n",
    "    index = random.randint(1,len(p1))\n",
    "    p1_sub = p1[:index]\n",
    "    p2_sub = p2[index:]\n",
    "    children = np.concatenate([p1_sub,p2_sub])\n",
    "    return children"
   ]
  },
  {
   "cell_type": "code",
   "execution_count": 122,
   "metadata": {},
   "outputs": [],
   "source": [
    "# 进化参数\n",
    "mut_rate = 0.1 # 变异率\n",
    "children_size = len(pop)"
   ]
  },
  {
   "cell_type": "code",
   "execution_count": 131,
   "metadata": {},
   "outputs": [
    {
     "data": {
      "text/plain": [
       "[array([1, 0, 1, 0, 0, 1, 1]),\n",
       " array([1, 0, 1, 0, 0, 1, 0]),\n",
       " array([1, 0, 1, 0, 0, 1, 0]),\n",
       " array([1, 0, 0, 1, 0, 1, 0]),\n",
       " array([1, 0, 1, 0, 0, 1, 0]),\n",
       " array([1, 0, 1, 1, 0, 0, 0]),\n",
       " array([0, 0, 0, 1, 0, 1, 0]),\n",
       " array([1, 0, 1, 0, 1, 1, 0]),\n",
       " array([1, 0, 1, 0, 0, 1, 1]),\n",
       " array([0, 0, 0, 1, 0, 1, 0]),\n",
       " array([1, 0, 0, 1, 0, 0, 0]),\n",
       " array([1, 0, 1, 0, 1, 1, 0]),\n",
       " array([0, 0, 0, 1, 0, 1, 0]),\n",
       " array([0, 0, 0, 1, 0, 1, 1]),\n",
       " array([1, 0, 0, 1, 0, 1, 1]),\n",
       " array([0, 0, 1, 0, 1, 1, 0]),\n",
       " array([1, 0, 0, 1, 0, 0, 0]),\n",
       " array([0, 0, 0, 1, 1, 1, 0]),\n",
       " array([0, 0, 0, 1, 0, 1, 1]),\n",
       " array([0, 0, 0, 1, 0, 1, 0])]"
      ]
     },
     "execution_count": 131,
     "metadata": {},
     "output_type": "execute_result"
    }
   ],
   "source": [
    "next_generation"
   ]
  },
  {
   "cell_type": "code",
   "execution_count": 144,
   "metadata": {
    "scrolled": true
   },
   "outputs": [
    {
     "name": "stdout",
     "output_type": "stream",
     "text": [
      "第0代种群的适应度：5.477,最优秀的适应度：7.533\n",
      "第1代种群的适应度：6.134,最优秀的适应度：7.819\n",
      "第2代种群的适应度：6.511,最优秀的适应度：7.819\n",
      "第3代种群的适应度：7.149,最优秀的适应度：7.819\n",
      "第4代种群的适应度：7.602,最优秀的适应度：7.819\n",
      "第5代种群的适应度：7.676,最优秀的适应度：7.819\n",
      "第6代种群的适应度：7.705,最优秀的适应度：7.819\n",
      "第7代种群的适应度：7.733,最优秀的适应度：7.819\n",
      "第8代种群的适应度：7.719,最优秀的适应度：7.819\n",
      "第9代种群的适应度：7.719,最优秀的适应度：7.819\n",
      "第10代种群的适应度：7.690,最优秀的适应度：7.819\n",
      "第11代种群的适应度：7.719,最优秀的适应度：7.819\n",
      "第12代种群的适应度：7.748,最优秀的适应度：7.819\n",
      "第13代种群的适应度：7.762,最优秀的适应度：7.819\n",
      "第14代种群的适应度：7.790,最优秀的适应度：7.819\n",
      "第15代种群的适应度：7.730,最优秀的适应度：7.819\n",
      "第16代种群的适应度：7.745,最优秀的适应度：7.819\n",
      "第17代种群的适应度：7.819,最优秀的适应度：7.819\n",
      "第18代种群的适应度：7.819,最优秀的适应度：7.819\n",
      "第19代种群的适应度：7.819,最优秀的适应度：7.819\n"
     ]
    }
   ],
   "source": [
    "# begin\n",
    "pop_parent  = init_pop(20,7)\n",
    "avg_fit, max_fit = fitness_pop(pop_parent)\n",
    "\n",
    "iter_num = 0\n",
    "while iter_num < 20:\n",
    "\n",
    "    next_generation = reproduce(pop_parent,children_size)\n",
    "    next_generation = pop_mutate(next_generation,mut_rate)\n",
    "    next_generation= selector(pop_parent,next_generation)\n",
    "    avg_fit, max_fit = fitness_pop(next_generation)\n",
    "    print(\"第{n}代种群的适应度：{x:.3f},最优秀的适应度：{y:.3f}\".format(n=iter_num, x=avg_fit,y=max_fit))\n",
    "    iter_num = iter_num + 1   # 进入下一轮\n",
    "    pop_parent = next_generation"
   ]
  },
  {
   "cell_type": "code",
   "execution_count": 145,
   "metadata": {
    "scrolled": true
   },
   "outputs": [
    {
     "data": {
      "text/plain": [
       "array([[1, 1, 0, 1, 0, 1, 1],\n",
       "       [1, 1, 0, 1, 0, 1, 1],\n",
       "       [1, 1, 0, 1, 0, 1, 1],\n",
       "       [1, 1, 0, 1, 0, 1, 1],\n",
       "       [1, 1, 0, 1, 0, 1, 1],\n",
       "       [1, 1, 0, 1, 0, 1, 1],\n",
       "       [1, 1, 0, 1, 0, 1, 1],\n",
       "       [1, 1, 0, 1, 0, 1, 1],\n",
       "       [1, 1, 0, 1, 0, 1, 1],\n",
       "       [1, 1, 0, 1, 0, 1, 1],\n",
       "       [1, 1, 0, 1, 0, 1, 1],\n",
       "       [1, 1, 0, 1, 0, 1, 1],\n",
       "       [1, 1, 0, 1, 0, 1, 1],\n",
       "       [1, 1, 0, 1, 0, 1, 1],\n",
       "       [1, 1, 0, 1, 0, 1, 1],\n",
       "       [1, 1, 0, 1, 0, 1, 1],\n",
       "       [1, 1, 0, 1, 0, 1, 1],\n",
       "       [1, 1, 0, 1, 0, 1, 1],\n",
       "       [1, 1, 0, 1, 0, 1, 1],\n",
       "       [1, 1, 0, 1, 0, 1, 1]])"
      ]
     },
     "execution_count": 145,
     "metadata": {},
     "output_type": "execute_result"
    }
   ],
   "source": [
    "pop_parent"
   ]
  },
  {
   "cell_type": "code",
   "execution_count": 141,
   "metadata": {},
   "outputs": [
    {
     "data": {
      "text/plain": [
       "(array([170, 170, 170, 170, 170, 170, 170, 170, 170, 170, 170, 130, 170,\n",
       "        170, 170, 170, 170, 170, 170, 170]),\n",
       " array([150, 150, 150, 150, 150, 150, 150, 150, 150, 150, 150, 120, 150,\n",
       "        150, 150, 150, 150, 150, 150, 150]))"
      ]
     },
     "execution_count": 141,
     "metadata": {},
     "output_type": "execute_result"
    }
   ],
   "source": [
    "def total_value_weight(pop):\n",
    "    total_value = np.sum([s*value for s in pop],1)\n",
    "    total_weight =np.sum([s*weight for s in pop],1)\n",
    "    return total_value, total_weight\n",
    "\n",
    "total_value_weight(pop_parent)"
   ]
  },
  {
   "cell_type": "markdown",
   "metadata": {},
   "source": [
    "用遗传算法训练神经网络"
   ]
  },
  {
   "cell_type": "code",
   "execution_count": 1,
   "metadata": {},
   "outputs": [],
   "source": [
    "import torch  \n",
    "from torch import nn\n",
    "import torch.nn.functional as F\n",
    "import numpy as np\n",
    "import random\n",
    "import os\n",
    "from copy import deepcopy\n"
   ]
  },
  {
   "cell_type": "code",
   "execution_count": 143,
   "metadata": {},
   "outputs": [],
   "source": [
    "X = np.random.randint(1,10,[100,2])\n",
    "y = X[:,0]*X[:,1]\n",
    "y= y.reshape(100,1)"
   ]
  },
  {
   "cell_type": "code",
   "execution_count": 144,
   "metadata": {},
   "outputs": [],
   "source": [
    "# 定义超参数\n",
    "input_size = 2\n",
    "hidden_size = 50\n",
    "output_size = 1\n",
    "n_iter = 3000\n",
    "generation_size = 20\n",
    "mutate_rate = 0.2\n",
    "parameter_len = (input_size+1)*hidden_size+(hidden_size+1)*output_size"
   ]
  },
  {
   "cell_type": "code",
   "execution_count": 145,
   "metadata": {},
   "outputs": [],
   "source": [
    "class NeuralNet(nn.Module):\n",
    "\t\n",
    "\tdef __init__(self, input_size, hidden_size, output_size):\n",
    "\t\tsuper().__init__()\n",
    "\t\tself.linear1 = nn.Linear(input_size, hidden_size)\n",
    "\t\tself.linear2 = nn.Linear(hidden_size, output_size)\n",
    "\n",
    "\tdef forward(self, x):\n",
    "\t\tx = F.relu(self.linear1(x))\n",
    "\t\tx = self.linear2(x)\n",
    "\t\treturn x\n",
    "\n",
    "\tdef get_weight(self):\n",
    "\t\treturn deepcopy([self.linear1.weight.data,\n",
    "\t\t\t\tself.linear1.bias.data,\n",
    "\t\t\t\tself.linear2.weight.data,\n",
    "\t\t\t\tself.linear2.bias.data])\n",
    "\n",
    "\tdef set_weight(self,weights):\n",
    "\t\tweights = deepcopy(weights)\n",
    "\t\tself.linear1.weight = nn.Parameter(weights[0])\n",
    "\t\tself.linear1.bias = nn.Parameter(weights[1])\n",
    "\t\tself.linear2.weight = nn.Parameter(weights[2])\n",
    "\t\tself.linear2.bias = nn.Parameter(weights[3])"
   ]
  },
  {
   "cell_type": "code",
   "execution_count": 146,
   "metadata": {},
   "outputs": [],
   "source": [
    "criterion = nn.MSELoss()"
   ]
  },
  {
   "cell_type": "code",
   "execution_count": 147,
   "metadata": {},
   "outputs": [],
   "source": [
    "def init_pop(size = generation_size):\n",
    "    pop = []\n",
    "    for _ in range(size):\n",
    "        pop.append(NeuralNet(input_size, hidden_size, output_size)) \n",
    "    return pop \n",
    "\n",
    "def fitness(model,inputs, targets):\n",
    "    outputs = model(inputs)\n",
    "    loss = criterion(outputs, targets) \n",
    "    output = 1/loss.item() \n",
    "    return output\n",
    "\n",
    "def fitness_prob(pop,inputs, targets):\n",
    "    fitness_value = []\n",
    "    for model in pop:\n",
    "        fitness_value.append(fitness(model, inputs, targets))\n",
    "    fitness_value = np.array(fitness_value)\n",
    "    return fitness_value/np.sum(fitness_value)\n",
    "\n",
    "\n",
    "def get_pop_weights(pop):\n",
    "    weights = []\n",
    "    for model in pop:\n",
    "        weights.append(model.get_weight())\n",
    "    return weights\n",
    "\n",
    "def set_pop_weights(pop, weights):\n",
    "    for model, weight in zip(pop, weights):\n",
    "        model.set_weight(weight)\n",
    "    return pop \n"
   ]
  },
  {
   "cell_type": "code",
   "execution_count": 148,
   "metadata": {},
   "outputs": [],
   "source": [
    "def list2tensor(weights):\n",
    "\treturn torch.concat([weights[0].flatten(),weights[1],\n",
    "\t\t\t\t\t\t\tweights[2].flatten(),weights[3]])\n",
    "\n",
    "def tensor2list(weights):\n",
    "\toutput_weights = []\n",
    "\tindex  = [input_size*hidden_size, \n",
    "\t\t\tinput_size*hidden_size+hidden_size,\n",
    "\t\t\tinput_size*hidden_size+hidden_size+hidden_size*output_size]\n",
    "\toutput_weights.append(weights[:index[0]].reshape(hidden_size,input_size))\n",
    "\toutput_weights.append(weights[index[0]:index[1]])\n",
    "\toutput_weights.append(weights[index[1]:index[2]].reshape(output_size,hidden_size))\n",
    "\toutput_weights.append(weights[index[2]:])\n",
    "\treturn output_weights\n",
    "\n",
    "def cross_mutate(weights_1, weights_2, rate):\n",
    "\tweights_1 = list2tensor(weights_1)\n",
    "\tweights_2 = list2tensor(weights_2)\n",
    "\tcrossover_idx = random.randint(0, parameter_len-1)\n",
    "\tnew_weights = torch.concat([weights_1[:crossover_idx] , weights_2[crossover_idx:]])\n",
    "\tif random.randint(0,generation_size-1) <= generation_size*mutate_rate:\n",
    "\t\tmutate_num = int(rate*parameter_len)\n",
    "\t\tfor _ in range(mutate_num):\n",
    "\t\t\ti = random.randint(0,parameter_len-1)\n",
    "\t\t\tnew_weights[i] += torch.randn(1).numpy()\n",
    "\toutput_weights = tensor2list(new_weights)\n",
    "\treturn \toutput_weights\n",
    "   \n",
    "\n",
    "def reproduce(pop,inputs, targets):\n",
    "\tnext_generation = []\n",
    "\tweights = get_pop_weights(pop)\n",
    "\tprob = fitness_prob(pop,inputs, targets) \n",
    "\tsecond_index, first_index = list(np.argsort(prob)[-2:])\n",
    "\tnext_generation.append(weights[first_index])\n",
    "\tnext_generation.append(weights[second_index])\n",
    "\tfor _ in range(generation_size-2):\n",
    "\t\tp1, p2 = np.random.choice(len(prob),size=2, replace=False,p=prob) \n",
    "\t\tnext_generation.append(cross_mutate(weights[p1],weights[p2],rate=0.01))\n",
    "\treturn next_generation"
   ]
  },
  {
   "cell_type": "code",
   "execution_count": 152,
   "metadata": {},
   "outputs": [
    {
     "name": "stdout",
     "output_type": "stream",
     "text": [
      "Epoch [101/3000], Loss: 93.9174\n",
      "Epoch [201/3000], Loss: 17.6046\n",
      "Epoch [301/3000], Loss: 9.6629\n",
      "Epoch [401/3000], Loss: 7.1597\n",
      "Epoch [501/3000], Loss: 6.2603\n",
      "Epoch [601/3000], Loss: 4.6404\n",
      "Epoch [701/3000], Loss: 3.7039\n",
      "Epoch [801/3000], Loss: 3.2290\n",
      "Epoch [901/3000], Loss: 2.1214\n",
      "Epoch [1001/3000], Loss: 1.8347\n",
      "Epoch [1101/3000], Loss: 1.7352\n",
      "Epoch [1201/3000], Loss: 1.5075\n",
      "Epoch [1301/3000], Loss: 1.3051\n",
      "Epoch [1401/3000], Loss: 1.2469\n",
      "Epoch [1501/3000], Loss: 1.1234\n",
      "Epoch [1601/3000], Loss: 1.0409\n",
      "Epoch [1701/3000], Loss: 0.9546\n",
      "Epoch [1801/3000], Loss: 0.8620\n",
      "Epoch [1901/3000], Loss: 0.8438\n",
      "Epoch [2001/3000], Loss: 0.8330\n",
      "Epoch [2101/3000], Loss: 0.8149\n",
      "Epoch [2201/3000], Loss: 0.8072\n",
      "Epoch [2301/3000], Loss: 0.6208\n",
      "Epoch [2401/3000], Loss: 0.5752\n",
      "Epoch [2501/3000], Loss: 0.4971\n",
      "Epoch [2601/3000], Loss: 0.4763\n",
      "Epoch [2701/3000], Loss: 0.4739\n",
      "Epoch [2801/3000], Loss: 0.4593\n",
      "Epoch [2901/3000], Loss: 0.4478\n"
     ]
    }
   ],
   "source": [
    "model_pop = init_pop()\n",
    "inputs = torch.from_numpy(X).to(torch.float)\n",
    "targets = torch.from_numpy(y).to(torch.long)\n",
    "\n",
    "for epoch in range(n_iter):\n",
    "\n",
    "    next_generation = reproduce(model_pop,inputs, targets)\n",
    "    set_pop_weights(model_pop, next_generation)\n",
    "\n",
    "    if (epoch>0 and epoch%100==0):\n",
    "        with torch.no_grad():\n",
    "            best_model = model_pop[0]\n",
    "            outputs = best_model(inputs)\n",
    "            loss = criterion(outputs, targets)\n",
    "            print ('Epoch [{}/{}], Loss: {:.4f}'.format(epoch+1, n_iter, loss.item()))"
   ]
  },
  {
   "cell_type": "code",
   "execution_count": 151,
   "metadata": {},
   "outputs": [
    {
     "data": {
      "text/plain": [
       "tensor([24.1617], grad_fn=<AddBackward0>)"
      ]
     },
     "execution_count": 151,
     "metadata": {},
     "output_type": "execute_result"
    }
   ],
   "source": [
    "best_model = model_pop[0]\n",
    "best_model(torch.Tensor([4,6]))"
   ]
  }
 ],
 "metadata": {
  "kernelspec": {
   "display_name": "game",
   "language": "python",
   "name": "python3"
  },
  "language_info": {
   "codemirror_mode": {
    "name": "ipython",
    "version": 3
   },
   "file_extension": ".py",
   "mimetype": "text/x-python",
   "name": "python",
   "nbconvert_exporter": "python",
   "pygments_lexer": "ipython3",
   "version": "3.9.12"
  },
  "vscode": {
   "interpreter": {
    "hash": "582c0b5fdb7e7ad1f1050fd1e5a23890c962b6c6199ffd519a966d6976476f17"
   }
  }
 },
 "nbformat": 4,
 "nbformat_minor": 2
}
