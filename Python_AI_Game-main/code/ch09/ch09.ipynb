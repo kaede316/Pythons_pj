{
 "cells": [
  {
   "cell_type": "code",
   "execution_count": 2,
   "metadata": {},
   "outputs": [],
   "source": [
    "import numpy as np\n",
    "import  numpy.random as rd"
   ]
  },
  {
   "cell_type": "code",
   "execution_count": 4,
   "metadata": {},
   "outputs": [
    {
     "data": {
      "text/plain": [
       "4"
      ]
     },
     "execution_count": 4,
     "metadata": {},
     "output_type": "execute_result"
    }
   ],
   "source": [
    "rd.randint(1,7)"
   ]
  },
  {
   "cell_type": "code",
   "execution_count": 2,
   "metadata": {},
   "outputs": [
    {
     "data": {
      "text/plain": [
       "2"
      ]
     },
     "execution_count": 2,
     "metadata": {},
     "output_type": "execute_result"
    }
   ],
   "source": [
    "number = [1,2,3,4,5,6]\n",
    "rd.choice(number)"
   ]
  },
  {
   "cell_type": "code",
   "execution_count": 10,
   "metadata": {},
   "outputs": [
    {
     "data": {
      "text/plain": [
       "array([4, 6, 3, 3, 3, 1, 1, 6, 5, 5])"
      ]
     },
     "execution_count": 10,
     "metadata": {},
     "output_type": "execute_result"
    }
   ],
   "source": [
    "dies = rd.randint(1,7,10)\n",
    "dies"
   ]
  },
  {
   "cell_type": "code",
   "execution_count": 124,
   "metadata": {},
   "outputs": [
    {
     "data": {
      "text/plain": [
       "array([2, 1, 5, 3, 5, 5, 2, 4, 6, 5])"
      ]
     },
     "execution_count": 124,
     "metadata": {},
     "output_type": "execute_result"
    }
   ],
   "source": [
    "number = [1,2,3,4,5,6]\n",
    "dies = rd.choice(number,10)\n",
    "dies"
   ]
  },
  {
   "cell_type": "code",
   "execution_count": 43,
   "metadata": {},
   "outputs": [],
   "source": [
    "dies = rd.randint(1,7,10000)"
   ]
  },
  {
   "cell_type": "code",
   "execution_count": 45,
   "metadata": {},
   "outputs": [],
   "source": [
    "def func_count(x):\n",
    "    result = dict()\n",
    "    number = np.unique(x)\n",
    "    for n in number:\n",
    "        result[n] = x[x == n].size\n",
    "    return result"
   ]
  },
  {
   "cell_type": "code",
   "execution_count": 46,
   "metadata": {},
   "outputs": [
    {
     "data": {
      "text/plain": [
       "{1: 1696, 2: 1679, 3: 1635, 4: 1687, 5: 1649, 6: 1654}"
      ]
     },
     "execution_count": 46,
     "metadata": {},
     "output_type": "execute_result"
    }
   ],
   "source": [
    "func_count(dies)"
   ]
  },
  {
   "cell_type": "code",
   "execution_count": 47,
   "metadata": {},
   "outputs": [],
   "source": [
    "die_1 = rd.randint(1,7,10000)\n",
    "die_2 = rd.randint(1,7,10000)\n",
    "die_sum = die_1 + die_2"
   ]
  },
  {
   "cell_type": "code",
   "execution_count": 48,
   "metadata": {},
   "outputs": [
    {
     "data": {
      "text/plain": [
       "{2: 262,\n",
       " 3: 578,\n",
       " 4: 799,\n",
       " 5: 1121,\n",
       " 6: 1398,\n",
       " 7: 1618,\n",
       " 8: 1467,\n",
       " 9: 1082,\n",
       " 10: 844,\n",
       " 11: 563,\n",
       " 12: 268}"
      ]
     },
     "execution_count": 48,
     "metadata": {},
     "output_type": "execute_result"
    }
   ],
   "source": [
    "func_count(die_sum)"
   ]
  },
  {
   "cell_type": "code",
   "execution_count": 50,
   "metadata": {},
   "outputs": [],
   "source": [
    "def func_prob(x):\n",
    "    result = dict()\n",
    "    number = np.unique(x)\n",
    "    for n in number:\n",
    "        result[n] = x[x == n].size/len(x)\n",
    "    return result"
   ]
  },
  {
   "cell_type": "code",
   "execution_count": 51,
   "metadata": {},
   "outputs": [
    {
     "data": {
      "text/plain": [
       "{2: 0.0262,\n",
       " 3: 0.0578,\n",
       " 4: 0.0799,\n",
       " 5: 0.1121,\n",
       " 6: 0.1398,\n",
       " 7: 0.1618,\n",
       " 8: 0.1467,\n",
       " 9: 0.1082,\n",
       " 10: 0.0844,\n",
       " 11: 0.0563,\n",
       " 12: 0.0268}"
      ]
     },
     "execution_count": 51,
     "metadata": {},
     "output_type": "execute_result"
    }
   ],
   "source": [
    "func_prob(die_sum)"
   ]
  },
  {
   "cell_type": "code",
   "execution_count": 10,
   "metadata": {},
   "outputs": [
    {
     "data": {
      "text/plain": [
       "array([False, False, False, False, False, False, False, False, False,\n",
       "       False])"
      ]
     },
     "execution_count": 10,
     "metadata": {},
     "output_type": "execute_result"
    }
   ],
   "source": [
    "die = rd.randint(1,7,10)\n",
    "die\n",
    "die==5"
   ]
  },
  {
   "cell_type": "code",
   "execution_count": 5,
   "metadata": {},
   "outputs": [
    {
     "name": "stdout",
     "output_type": "stream",
     "text": [
      "模拟概率为0.0284\n"
     ]
    }
   ],
   "source": [
    "test_num = 10000\n",
    "die_1 = rd.randint(1,7,test_num)\n",
    "die_2 = rd.randint(1,7,test_num)\n",
    "result = (die_1 == 5) & (die_2 == 5)\n",
    "sim_prob = result.sum()/test_num\n",
    "print(\"模拟概率为{x:.4f}\".format(x=sim_prob))"
   ]
  },
  {
   "cell_type": "code",
   "execution_count": 2,
   "metadata": {},
   "outputs": [
    {
     "name": "stdout",
     "output_type": "stream",
     "text": [
      "真实概率为0.0278\n"
     ]
    }
   ],
   "source": [
    "real_prob = (1/6)*(1/6)\n",
    "print(\"真实概率为{x:.4f}\".format(x=real_prob))"
   ]
  },
  {
   "cell_type": "code",
   "execution_count": 125,
   "metadata": {},
   "outputs": [],
   "source": [
    "test_num = 10000\n",
    "coin_1 = rd.randint(0,2,test_num)\n",
    "coin_2 = rd.randint(0,2,test_num)\n",
    "coin_3 = rd.randint(0,2,test_num)"
   ]
  },
  {
   "cell_type": "code",
   "execution_count": 128,
   "metadata": {},
   "outputs": [
    {
     "data": {
      "text/plain": [
       "0.2527"
      ]
     },
     "execution_count": 128,
     "metadata": {},
     "output_type": "execute_result"
    }
   ],
   "source": [
    "result_1 = (coin_1 == 1) & (coin_2 == 1) & (coin_3 == 1)\n",
    "result_2 = (coin_1 == 0) & (coin_2 == 0) & (coin_3 == 0)\n",
    "(result_1.sum()+result_2.sum())/test_num"
   ]
  },
  {
   "cell_type": "code",
   "execution_count": 131,
   "metadata": {},
   "outputs": [],
   "source": [
    "test_num = 10000\n",
    "coin_1 = rd.randint(0,2,test_num)\n",
    "coin_2 = rd.randint(0,2,test_num)\n",
    "result_1 = (coin_1 == 1) & (coin_2 == 1)\n",
    "result_2 = (coin_1 == 0) & (coin_2 == 0)\n",
    "result_3 = ((coin_1 == 0) & (coin_2 == 1)) | ((coin_1 == 1) & (coin_2 == 0))"
   ]
  },
  {
   "cell_type": "code",
   "execution_count": 132,
   "metadata": {},
   "outputs": [
    {
     "name": "stdout",
     "output_type": "stream",
     "text": [
      "2550\n",
      "2431\n",
      "5019\n"
     ]
    }
   ],
   "source": [
    "print(result_1.sum())\n",
    "print(result_2.sum())\n",
    "print(result_3.sum())"
   ]
  },
  {
   "cell_type": "code",
   "execution_count": 133,
   "metadata": {},
   "outputs": [],
   "source": [
    "amt_result = 3*result_1+1*result_2 +(-2)*result_3"
   ]
  },
  {
   "cell_type": "code",
   "execution_count": 134,
   "metadata": {},
   "outputs": [
    {
     "data": {
      "text/plain": [
       "43"
      ]
     },
     "execution_count": 134,
     "metadata": {},
     "output_type": "execute_result"
    }
   ],
   "source": [
    "amt_result.sum()"
   ]
  },
  {
   "cell_type": "code",
   "execution_count": 135,
   "metadata": {},
   "outputs": [
    {
     "data": {
      "text/plain": [
       "-4991"
      ]
     },
     "execution_count": 135,
     "metadata": {},
     "output_type": "execute_result"
    }
   ],
   "source": [
    "test_num = 10000\n",
    "coin_1 = rd.randint(0,2,test_num)\n",
    "coin_2 = np.zeros(test_num)\n",
    "result_1 = (coin_1 == 1) & (coin_2 == 1)\n",
    "result_2 = (coin_1 == 0) & (coin_2 == 0)\n",
    "result_3 = ((coin_1 == 0) & (coin_2 == 1)) | ((coin_1 == 1) & (coin_2 == 0))\n",
    "amt_result = 3*result_1+1*result_2 +(-2)*result_3\n",
    "amt_result.sum()"
   ]
  },
  {
   "cell_type": "code",
   "execution_count": 9,
   "metadata": {},
   "outputs": [],
   "source": [
    "suit = ['红心','黑桃','方片','草花']\n",
    "number = ['2','3','4','5','6','7','8','9','10','J','Q','K','A']\n",
    "cards = np.array([{'s':s,'n':n} for s in suit for n in number])"
   ]
  },
  {
   "cell_type": "code",
   "execution_count": 10,
   "metadata": {},
   "outputs": [
    {
     "data": {
      "text/plain": [
       "array([{'s': '红心', 'n': '2'}, {'s': '红心', 'n': '3'},\n",
       "       {'s': '红心', 'n': '4'}, {'s': '红心', 'n': '5'}], dtype=object)"
      ]
     },
     "execution_count": 10,
     "metadata": {},
     "output_type": "execute_result"
    }
   ],
   "source": [
    "cards[:4]"
   ]
  },
  {
   "cell_type": "code",
   "execution_count": 11,
   "metadata": {},
   "outputs": [],
   "source": [
    "my_card = rd.choice(cards, 2,replace=False)"
   ]
  },
  {
   "cell_type": "code",
   "execution_count": 12,
   "metadata": {},
   "outputs": [
    {
     "data": {
      "text/plain": [
       "array([{'s': '黑桃', 'n': '10'}, {'s': '红心', 'n': 'J'}], dtype=object)"
      ]
     },
     "execution_count": 12,
     "metadata": {},
     "output_type": "execute_result"
    }
   ],
   "source": [
    "my_card"
   ]
  },
  {
   "cell_type": "code",
   "execution_count": 15,
   "metadata": {},
   "outputs": [],
   "source": [
    "def cards_func():\n",
    "    my_card = rd.choice(cards, 2,replace=False)\n",
    "    is_AA = my_card[0]['n'] == 'A' and my_card[1]['n'] == 'A'\n",
    "    return is_AA"
   ]
  },
  {
   "cell_type": "code",
   "execution_count": 16,
   "metadata": {},
   "outputs": [],
   "source": [
    "test_num = 10000\n",
    "result = np.array([cards_func() for x in range(test_num)])"
   ]
  },
  {
   "cell_type": "code",
   "execution_count": 18,
   "metadata": {},
   "outputs": [
    {
     "name": "stdout",
     "output_type": "stream",
     "text": [
      "模拟概率为0.0047\n"
     ]
    }
   ],
   "source": [
    "sim_prob = result.sum()/test_num\n",
    "print(\"模拟概率为{x:.4f}\".format(x=sim_prob))"
   ]
  },
  {
   "cell_type": "code",
   "execution_count": 19,
   "metadata": {},
   "outputs": [
    {
     "name": "stdout",
     "output_type": "stream",
     "text": [
      "真实概率为0.0045\n"
     ]
    }
   ],
   "source": [
    "real_prob = (4/52)*(3/51)\n",
    "print(\"真实概率为{x:.4f}\".format(x=real_prob))"
   ]
  },
  {
   "cell_type": "code",
   "execution_count": 13,
   "metadata": {},
   "outputs": [],
   "source": [
    "suit = ['红心','黑桃','方片','草花']\n",
    "number = ['2','3','4','5','6','7','8','9','10','J','Q','K','A']\n",
    "cards = np.array([{'s':s,'n':n} for s in suit for n in number])"
   ]
  },
  {
   "cell_type": "code",
   "execution_count": 26,
   "metadata": {},
   "outputs": [],
   "source": [
    "def cards_func():\n",
    "    my_card = rd.choice(cards, 5,replace=False)\n",
    "    is_fore = len(set([c['n'] for c in my_card]))==2\n",
    "    return is_fore"
   ]
  },
  {
   "cell_type": "code",
   "execution_count": 27,
   "metadata": {},
   "outputs": [],
   "source": [
    "test_num = 10000\n",
    "result = np.array([cards_func() for x in range(test_num)])"
   ]
  },
  {
   "cell_type": "code",
   "execution_count": 29,
   "metadata": {},
   "outputs": [
    {
     "data": {
      "text/plain": [
       "0.0016"
      ]
     },
     "execution_count": 29,
     "metadata": {},
     "output_type": "execute_result"
    }
   ],
   "source": [
    "sum(result)/10000"
   ]
  },
  {
   "cell_type": "code",
   "execution_count": 4,
   "metadata": {},
   "outputs": [],
   "source": [
    "def find_pi(n):\n",
    "    x = rd.rand(n)\n",
    "    y = rd.rand(n)\n",
    "    dist = np.sqrt((x-0.5)**2 +(y-0.5)**2)\n",
    "    inside = dist<0.5\n",
    "    pi = (inside.sum()/n)/0.25\n",
    "    return pi"
   ]
  },
  {
   "cell_type": "code",
   "execution_count": 5,
   "metadata": {},
   "outputs": [
    {
     "data": {
      "text/plain": [
       "3.140796"
      ]
     },
     "execution_count": 5,
     "metadata": {},
     "output_type": "execute_result"
    }
   ],
   "source": [
    "find_pi(1000000)"
   ]
  },
  {
   "cell_type": "code",
   "execution_count": null,
   "metadata": {},
   "outputs": [],
   "source": []
  }
 ],
 "metadata": {
  "kernelspec": {
   "display_name": "Python 3 (ipykernel)",
   "language": "python",
   "name": "python3"
  },
  "language_info": {
   "codemirror_mode": {
    "name": "ipython",
    "version": 3
   },
   "file_extension": ".py",
   "mimetype": "text/x-python",
   "name": "python",
   "nbconvert_exporter": "python",
   "pygments_lexer": "ipython3",
   "version": "3.9.12"
  },
  "vscode": {
   "interpreter": {
    "hash": "582c0b5fdb7e7ad1f1050fd1e5a23890c962b6c6199ffd519a966d6976476f17"
   }
  }
 },
 "nbformat": 4,
 "nbformat_minor": 2
}
